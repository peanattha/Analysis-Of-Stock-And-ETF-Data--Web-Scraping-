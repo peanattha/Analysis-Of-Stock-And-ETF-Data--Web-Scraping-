{
 "cells": [
  {
   "attachments": {},
   "cell_type": "markdown",
   "metadata": {},
   "source": [
    "# Web Scraping ข้อมูลรายชื่อหุ้นในตลาด SET เเละ ETF"
   ]
  },
  {
   "cell_type": "code",
   "execution_count": 1,
   "metadata": {},
   "outputs": [],
   "source": [
    "import pandas as pd\n",
    "import requests\n",
    "from bs4 import BeautifulSoup\n",
    "import time\n",
    "import numpy as np"
   ]
  },
  {
   "cell_type": "markdown",
   "metadata": {},
   "source": [
    "ชื่อหลักทรัพย์ SET MAI"
   ]
  },
  {
   "cell_type": "code",
   "execution_count": null,
   "metadata": {},
   "outputs": [],
   "source": [
    "list_url = ['NUMBER','A','B','C','D','E','F','G','H','I','J','K','M','N','L','O','P','Q','R','S','T','U','V','W','X','Y','Z']\n",
    "info_name = pd.DataFrame()\n",
    "for i in list_url: \n",
    "    url = 'https://classic.set.or.th/set/commonslookup.do?language=th&country=TH&prefix='+i\n",
    "    r = requests.get(url)\n",
    "    soup = BeautifulSoup(r.text, features=\"html.parser\")\n",
    "    table = soup.find('table')\n",
    "    stock_name = pd.read_html(str(table))\n",
    "    stock_name = stock_name[0]\n",
    "    info_name = pd.concat([info_name,stock_name])\n",
    "    # time.sleep(5)\n",
    "info_name = info_name.reset_index()\n",
    "info_name = info_name.drop(columns=['index'])\n",
    "info_name = info_name.rename(columns={\"ชื่อย่อหลักทรัพย์\":\"Name\",\"ชื่อเต็มบริษัท / หลักทรัพย์จดทะเบียน\":\"Company full name\",\"ตลาด\":\"Market\"})\n",
    "info_name.head()"
   ]
  },
  {
   "cell_type": "code",
   "execution_count": 4,
   "metadata": {},
   "outputs": [],
   "source": [
    "info_name_copy = info_name.copy()"
   ]
  },
  {
   "cell_type": "code",
   "execution_count": 5,
   "metadata": {},
   "outputs": [
    {
     "name": "stdout",
     "output_type": "stream",
     "text": [
      "Empty DataFrame\n",
      "Columns: [Name, Company full name, Market]\n",
      "Index: []\n"
     ]
    }
   ],
   "source": [
    "print(info_name_copy[info_name_copy.duplicated()])"
   ]
  },
  {
   "cell_type": "code",
   "execution_count": 6,
   "metadata": {},
   "outputs": [
    {
     "name": "stdout",
     "output_type": "stream",
     "text": [
      "(859, 3)\n"
     ]
    },
    {
     "data": {
      "text/plain": [
       "Name                 object\n",
       "Company full name    object\n",
       "Market               object\n",
       "dtype: object"
      ]
     },
     "execution_count": 6,
     "metadata": {},
     "output_type": "execute_result"
    }
   ],
   "source": [
    "print(info_name_copy.shape)\n",
    "info_name_copy.dtypes"
   ]
  },
  {
   "cell_type": "code",
   "execution_count": 7,
   "metadata": {},
   "outputs": [
    {
     "data": {
      "text/plain": [
       "Name                 0\n",
       "Company full name    0\n",
       "Market               0\n",
       "dtype: int64"
      ]
     },
     "execution_count": 7,
     "metadata": {},
     "output_type": "execute_result"
    }
   ],
   "source": [
    "info_name_copy.isna().sum()"
   ]
  },
  {
   "cell_type": "markdown",
   "metadata": {},
   "source": [
    "ชื่อหลักทรัพย์ ETF"
   ]
  },
  {
   "cell_type": "code",
   "execution_count": 2,
   "metadata": {},
   "outputs": [
    {
     "data": {
      "text/html": [
       "<div>\n",
       "<style scoped>\n",
       "    .dataframe tbody tr th:only-of-type {\n",
       "        vertical-align: middle;\n",
       "    }\n",
       "\n",
       "    .dataframe tbody tr th {\n",
       "        vertical-align: top;\n",
       "    }\n",
       "\n",
       "    .dataframe thead th {\n",
       "        text-align: right;\n",
       "    }\n",
       "</style>\n",
       "<table border=\"1\" class=\"dataframe\">\n",
       "  <thead>\n",
       "    <tr style=\"text-align: right;\">\n",
       "      <th></th>\n",
       "      <th>Name</th>\n",
       "      <th>Company full name</th>\n",
       "      <th>Market</th>\n",
       "    </tr>\n",
       "  </thead>\n",
       "  <tbody>\n",
       "    <tr>\n",
       "      <th>0</th>\n",
       "      <td>1DIV</td>\n",
       "      <td>กองทุนเปิดไทยเด็กซ์ SET High Dividend ETF</td>\n",
       "      <td>SET</td>\n",
       "    </tr>\n",
       "    <tr>\n",
       "      <th>1</th>\n",
       "      <td>ABFTH</td>\n",
       "      <td>กองทุนเปิดดัชนีพันธบัตรไทยเอบีเอฟ</td>\n",
       "      <td>SET</td>\n",
       "    </tr>\n",
       "    <tr>\n",
       "      <th>2</th>\n",
       "      <td>BMSCG</td>\n",
       "      <td>กองทุนเปิด BCAP MID SMALL CG ETF</td>\n",
       "      <td>SET</td>\n",
       "    </tr>\n",
       "    <tr>\n",
       "      <th>3</th>\n",
       "      <td>BMSCITH</td>\n",
       "      <td>กองทุนเปิด BCAP MSCI THAILAND ETF</td>\n",
       "      <td>SET</td>\n",
       "    </tr>\n",
       "    <tr>\n",
       "      <th>4</th>\n",
       "      <td>BSET100</td>\n",
       "      <td>กองทุนเปิด BCAP SET 100 ETF</td>\n",
       "      <td>SET</td>\n",
       "    </tr>\n",
       "  </tbody>\n",
       "</table>\n",
       "</div>"
      ],
      "text/plain": [
       "      Name                          Company full name Market\n",
       "0     1DIV  กองทุนเปิดไทยเด็กซ์ SET High Dividend ETF    SET\n",
       "1    ABFTH          กองทุนเปิดดัชนีพันธบัตรไทยเอบีเอฟ    SET\n",
       "2    BMSCG           กองทุนเปิด BCAP MID SMALL CG ETF    SET\n",
       "3  BMSCITH          กองทุนเปิด BCAP MSCI THAILAND ETF    SET\n",
       "4  BSET100                กองทุนเปิด BCAP SET 100 ETF    SET"
      ]
     },
     "execution_count": 2,
     "metadata": {},
     "output_type": "execute_result"
    }
   ],
   "source": [
    "url = 'https://classic.set.or.th/set/othertypeslookup.do'\n",
    "r = requests.get(url)\n",
    "soup = BeautifulSoup(r.text, features=\"html.parser\")\n",
    "table = soup.find_all('table')\n",
    "etf_name = pd.read_html(str(table))\n",
    "etf_name = etf_name[1]\n",
    "etf_name = etf_name.reset_index()\n",
    "etf_name = etf_name.drop(columns=['index'])\n",
    "etf_name = etf_name.rename(columns={\"ชื่อย่อหลักทรัพย์\":\"Name\",\"ชื่อเต็มบริษัท / หลักทรัพย์จดทะเบียน\":\"Company full name\",\"ตลาด\":\"Market\"})\n",
    "# etf_name['Index'] = \"ETF\"\n",
    "etf_name.head()"
   ]
  },
  {
   "cell_type": "code",
   "execution_count": 4,
   "metadata": {},
   "outputs": [],
   "source": [
    "etf_name_copy = etf_name.copy()"
   ]
  },
  {
   "cell_type": "code",
   "execution_count": 5,
   "metadata": {},
   "outputs": [
    {
     "name": "stdout",
     "output_type": "stream",
     "text": [
      "Empty DataFrame\n",
      "Columns: [Name, Company full name, Market]\n",
      "Index: []\n"
     ]
    }
   ],
   "source": [
    "print(etf_name_copy[etf_name_copy.duplicated()])"
   ]
  },
  {
   "cell_type": "code",
   "execution_count": 6,
   "metadata": {},
   "outputs": [
    {
     "name": "stdout",
     "output_type": "stream",
     "text": [
      "(13, 3)\n"
     ]
    },
    {
     "data": {
      "text/plain": [
       "Name                 object\n",
       "Company full name    object\n",
       "Market               object\n",
       "dtype: object"
      ]
     },
     "execution_count": 6,
     "metadata": {},
     "output_type": "execute_result"
    }
   ],
   "source": [
    "print(etf_name_copy.shape)\n",
    "etf_name_copy.dtypes"
   ]
  },
  {
   "cell_type": "code",
   "execution_count": null,
   "metadata": {},
   "outputs": [],
   "source": [
    "info_name_copy.isna().sum()"
   ]
  },
  {
   "cell_type": "markdown",
   "metadata": {},
   "source": [
    "SET + ETF"
   ]
  },
  {
   "cell_type": "code",
   "execution_count": 13,
   "metadata": {},
   "outputs": [
    {
     "data": {
      "text/html": [
       "<div>\n",
       "<style scoped>\n",
       "    .dataframe tbody tr th:only-of-type {\n",
       "        vertical-align: middle;\n",
       "    }\n",
       "\n",
       "    .dataframe tbody tr th {\n",
       "        vertical-align: top;\n",
       "    }\n",
       "\n",
       "    .dataframe thead th {\n",
       "        text-align: right;\n",
       "    }\n",
       "</style>\n",
       "<table border=\"1\" class=\"dataframe\">\n",
       "  <thead>\n",
       "    <tr style=\"text-align: right;\">\n",
       "      <th></th>\n",
       "      <th>Name</th>\n",
       "      <th>Company full name</th>\n",
       "      <th>Market</th>\n",
       "    </tr>\n",
       "  </thead>\n",
       "  <tbody>\n",
       "    <tr>\n",
       "      <th>0</th>\n",
       "      <td>2S</td>\n",
       "      <td>บริษัท 2 เอส เมทัล จำกัด (มหาชน)</td>\n",
       "      <td>SET</td>\n",
       "    </tr>\n",
       "    <tr>\n",
       "      <th>1</th>\n",
       "      <td>3K-BAT</td>\n",
       "      <td>บริษัท ไทย เอ็นเนอร์จี สโตเรจ เทคโนโลยี จำกัด ...</td>\n",
       "      <td>SET</td>\n",
       "    </tr>\n",
       "    <tr>\n",
       "      <th>2</th>\n",
       "      <td>7UP</td>\n",
       "      <td>บริษัท เซเว่น ยูทิลิตี้ส์ แอนด์ พาวเวอร์ จำกัด...</td>\n",
       "      <td>SET</td>\n",
       "    </tr>\n",
       "    <tr>\n",
       "      <th>3</th>\n",
       "      <td>A</td>\n",
       "      <td>บริษัท อารียา พรอพเพอร์ตี้ จำกัด (มหาชน)</td>\n",
       "      <td>SET</td>\n",
       "    </tr>\n",
       "    <tr>\n",
       "      <th>4</th>\n",
       "      <td>A5</td>\n",
       "      <td>บริษัท แอสเซท ไฟว์ กรุ๊ป จำกัด (มหาชน)</td>\n",
       "      <td>mai</td>\n",
       "    </tr>\n",
       "  </tbody>\n",
       "</table>\n",
       "</div>"
      ],
      "text/plain": [
       "     Name                                  Company full name Market\n",
       "0      2S                   บริษัท 2 เอส เมทัล จำกัด (มหาชน)    SET\n",
       "1  3K-BAT  บริษัท ไทย เอ็นเนอร์จี สโตเรจ เทคโนโลยี จำกัด ...    SET\n",
       "2     7UP  บริษัท เซเว่น ยูทิลิตี้ส์ แอนด์ พาวเวอร์ จำกัด...    SET\n",
       "3       A           บริษัท อารียา พรอพเพอร์ตี้ จำกัด (มหาชน)    SET\n",
       "4      A5             บริษัท แอสเซท ไฟว์ กรุ๊ป จำกัด (มหาชน)    mai"
      ]
     },
     "execution_count": 13,
     "metadata": {},
     "output_type": "execute_result"
    }
   ],
   "source": [
    "result_name = pd.DataFrame()\n",
    "result_name = pd.concat([info_name_copy,etf_name])\n",
    "result_name.head()"
   ]
  },
  {
   "cell_type": "code",
   "execution_count": 14,
   "metadata": {},
   "outputs": [
    {
     "name": "stdout",
     "output_type": "stream",
     "text": [
      "Empty DataFrame\n",
      "Columns: [Name, Company full name, Market]\n",
      "Index: []\n"
     ]
    }
   ],
   "source": [
    "print(result_name[result_name.duplicated()])"
   ]
  },
  {
   "cell_type": "code",
   "execution_count": 15,
   "metadata": {},
   "outputs": [
    {
     "name": "stdout",
     "output_type": "stream",
     "text": [
      "(872, 3)\n"
     ]
    },
    {
     "data": {
      "text/plain": [
       "Name                 object\n",
       "Company full name    object\n",
       "Market               object\n",
       "dtype: object"
      ]
     },
     "execution_count": 15,
     "metadata": {},
     "output_type": "execute_result"
    }
   ],
   "source": [
    "print(result_name.shape)\n",
    "result_name.dtypes"
   ]
  },
  {
   "cell_type": "code",
   "execution_count": 16,
   "metadata": {},
   "outputs": [
    {
     "data": {
      "text/plain": [
       "Name                 0\n",
       "Company full name    0\n",
       "Market               0\n",
       "dtype: int64"
      ]
     },
     "execution_count": 16,
     "metadata": {},
     "output_type": "execute_result"
    }
   ],
   "source": [
    "info_name_copy.isna().sum()"
   ]
  },
  {
   "cell_type": "markdown",
   "metadata": {},
   "source": [
    "Index"
   ]
  },
  {
   "cell_type": "code",
   "execution_count": 2,
   "metadata": {},
   "outputs": [
    {
     "data": {
      "text/html": [
       "<div>\n",
       "<style scoped>\n",
       "    .dataframe tbody tr th:only-of-type {\n",
       "        vertical-align: middle;\n",
       "    }\n",
       "\n",
       "    .dataframe tbody tr th {\n",
       "        vertical-align: top;\n",
       "    }\n",
       "\n",
       "    .dataframe thead th {\n",
       "        text-align: right;\n",
       "    }\n",
       "</style>\n",
       "<table border=\"1\" class=\"dataframe\">\n",
       "  <thead>\n",
       "    <tr style=\"text-align: right;\">\n",
       "      <th></th>\n",
       "      <th>Name</th>\n",
       "      <th>Index</th>\n",
       "    </tr>\n",
       "  </thead>\n",
       "  <tbody>\n",
       "    <tr>\n",
       "      <th>0</th>\n",
       "      <td>ACE</td>\n",
       "      <td>SET100</td>\n",
       "    </tr>\n",
       "    <tr>\n",
       "      <th>1</th>\n",
       "      <td>ADVANC</td>\n",
       "      <td>SET100</td>\n",
       "    </tr>\n",
       "    <tr>\n",
       "      <th>2</th>\n",
       "      <td>AEONTS</td>\n",
       "      <td>SET100</td>\n",
       "    </tr>\n",
       "    <tr>\n",
       "      <th>3</th>\n",
       "      <td>AMATA</td>\n",
       "      <td>SET100</td>\n",
       "    </tr>\n",
       "    <tr>\n",
       "      <th>4</th>\n",
       "      <td>AOT</td>\n",
       "      <td>SET100</td>\n",
       "    </tr>\n",
       "  </tbody>\n",
       "</table>\n",
       "</div>"
      ],
      "text/plain": [
       "     Name   Index\n",
       "0     ACE  SET100\n",
       "1  ADVANC  SET100\n",
       "2  AEONTS  SET100\n",
       "3   AMATA  SET100\n",
       "4     AOT  SET100"
      ]
     },
     "execution_count": 2,
     "metadata": {},
     "output_type": "execute_result"
    }
   ],
   "source": [
    "url_list = ['SET100','SET50','SETHD','sSET']\n",
    "index_result = pd.DataFrame()\n",
    "for i in url_list:\n",
    "    url = 'https://classic.set.or.th/mkt/sectorquotation.do?sector='+i+'&language=th&country=TH'\n",
    "    r = requests.get(url)\n",
    "    soup = BeautifulSoup(r.text, features=\"html.parser\")\n",
    "    table = soup.find_all('table')\n",
    "    index = pd.read_html(str(table))\n",
    "    index = index[2]\n",
    "    cols = [1,2,3,4,5,6,7,8,9,10,11]\n",
    "    index.drop(index.columns[cols],axis=1,inplace=True)\n",
    "    index = index.rename(columns={\"หลักทรัพย์\":\"Name\"})\n",
    "    index['Index'] = i\n",
    "    index_result = pd.concat([index_result,index])\n",
    "index_result.head()"
   ]
  },
  {
   "cell_type": "code",
   "execution_count": 3,
   "metadata": {},
   "outputs": [
    {
     "data": {
      "text/html": [
       "<div>\n",
       "<style scoped>\n",
       "    .dataframe tbody tr th:only-of-type {\n",
       "        vertical-align: middle;\n",
       "    }\n",
       "\n",
       "    .dataframe tbody tr th {\n",
       "        vertical-align: top;\n",
       "    }\n",
       "\n",
       "    .dataframe thead th {\n",
       "        text-align: right;\n",
       "    }\n",
       "</style>\n",
       "<table border=\"1\" class=\"dataframe\">\n",
       "  <thead>\n",
       "    <tr style=\"text-align: right;\">\n",
       "      <th></th>\n",
       "      <th>Name</th>\n",
       "      <th>Index</th>\n",
       "    </tr>\n",
       "  </thead>\n",
       "  <tbody>\n",
       "    <tr>\n",
       "      <th>0</th>\n",
       "      <td>1DIV</td>\n",
       "      <td>ETF</td>\n",
       "    </tr>\n",
       "    <tr>\n",
       "      <th>1</th>\n",
       "      <td>ABFTH</td>\n",
       "      <td>ETF</td>\n",
       "    </tr>\n",
       "    <tr>\n",
       "      <th>2</th>\n",
       "      <td>BMSCG</td>\n",
       "      <td>ETF</td>\n",
       "    </tr>\n",
       "    <tr>\n",
       "      <th>3</th>\n",
       "      <td>BMSCITH</td>\n",
       "      <td>ETF</td>\n",
       "    </tr>\n",
       "    <tr>\n",
       "      <th>4</th>\n",
       "      <td>BSET100</td>\n",
       "      <td>ETF</td>\n",
       "    </tr>\n",
       "  </tbody>\n",
       "</table>\n",
       "</div>"
      ],
      "text/plain": [
       "      Name Index\n",
       "0     1DIV   ETF\n",
       "1    ABFTH   ETF\n",
       "2    BMSCG   ETF\n",
       "3  BMSCITH   ETF\n",
       "4  BSET100   ETF"
      ]
     },
     "execution_count": 3,
     "metadata": {},
     "output_type": "execute_result"
    }
   ],
   "source": [
    "url = 'https://classic.set.or.th/set/othertypeslookup.do'\n",
    "r = requests.get(url)\n",
    "soup = BeautifulSoup(r.text, features=\"html.parser\")\n",
    "table = soup.find_all('table')\n",
    "etf_name_index = pd.read_html(str(table))\n",
    "etf_name_index = etf_name_index[1]\n",
    "etf_name_index = etf_name_index.reset_index()\n",
    "etf_name_index = etf_name_index.drop(columns=['index'])\n",
    "etf_name_index = etf_name_index.rename(columns={\"ชื่อย่อหลักทรัพย์\":\"Name\",\"ชื่อเต็มบริษัท / หลักทรัพย์จดทะเบียน\":\"Company full name\",\"ตลาด\":\"Market\"})\n",
    "etf_name_index = etf_name_index.drop(columns=['Company full name','Market'])\n",
    "etf_name_index['Index'] = \"ETF\"\n",
    "etf_name_index.head()"
   ]
  },
  {
   "cell_type": "code",
   "execution_count": 4,
   "metadata": {},
   "outputs": [
    {
     "name": "stdout",
     "output_type": "stream",
     "text": [
      "Empty DataFrame\n",
      "Columns: [Name, Index]\n",
      "Index: []\n"
     ]
    }
   ],
   "source": [
    "print(index_result[index_result.duplicated()])"
   ]
  },
  {
   "cell_type": "code",
   "execution_count": 5,
   "metadata": {},
   "outputs": [
    {
     "name": "stdout",
     "output_type": "stream",
     "text": [
      "Empty DataFrame\n",
      "Columns: [Name, Index]\n",
      "Index: []\n"
     ]
    }
   ],
   "source": [
    "print(etf_name_index[etf_name_index.duplicated()])"
   ]
  },
  {
   "cell_type": "code",
   "execution_count": 6,
   "metadata": {},
   "outputs": [],
   "source": [
    "index_result = pd.concat([etf_name_index,index_result])"
   ]
  },
  {
   "cell_type": "code",
   "execution_count": 7,
   "metadata": {},
   "outputs": [
    {
     "name": "stdout",
     "output_type": "stream",
     "text": [
      "(341, 2)\n"
     ]
    },
    {
     "data": {
      "text/plain": [
       "Name     object\n",
       "Index    object\n",
       "dtype: object"
      ]
     },
     "execution_count": 7,
     "metadata": {},
     "output_type": "execute_result"
    }
   ],
   "source": [
    "print(index_result.shape)\n",
    "index_result.dtypes"
   ]
  },
  {
   "cell_type": "code",
   "execution_count": 8,
   "metadata": {},
   "outputs": [
    {
     "data": {
      "text/plain": [
       "Name     0\n",
       "Index    0\n",
       "dtype: int64"
      ]
     },
     "execution_count": 8,
     "metadata": {},
     "output_type": "execute_result"
    }
   ],
   "source": [
    "index_result.isna().sum()"
   ]
  },
  {
   "cell_type": "code",
   "execution_count": 10,
   "metadata": {},
   "outputs": [],
   "source": [
    "index_result.to_excel(\"index.xlsx\")"
   ]
  },
  {
   "cell_type": "markdown",
   "metadata": {},
   "source": [
    "SET Sector & Industry"
   ]
  },
  {
   "cell_type": "code",
   "execution_count": 21,
   "metadata": {},
   "outputs": [
    {
     "data": {
      "text/html": [
       "<div>\n",
       "<style scoped>\n",
       "    .dataframe tbody tr th:only-of-type {\n",
       "        vertical-align: middle;\n",
       "    }\n",
       "\n",
       "    .dataframe tbody tr th {\n",
       "        vertical-align: top;\n",
       "    }\n",
       "\n",
       "    .dataframe thead th {\n",
       "        text-align: right;\n",
       "    }\n",
       "</style>\n",
       "<table border=\"1\" class=\"dataframe\">\n",
       "  <thead>\n",
       "    <tr style=\"text-align: right;\">\n",
       "      <th></th>\n",
       "      <th>หลักทรัพย์</th>\n",
       "      <th>Sector_id</th>\n",
       "    </tr>\n",
       "  </thead>\n",
       "  <tbody>\n",
       "    <tr>\n",
       "      <th>0</th>\n",
       "      <td>EE</td>\n",
       "      <td>AGRI</td>\n",
       "    </tr>\n",
       "    <tr>\n",
       "      <th>1</th>\n",
       "      <td>GFPT</td>\n",
       "      <td>AGRI</td>\n",
       "    </tr>\n",
       "    <tr>\n",
       "      <th>2</th>\n",
       "      <td>LEE</td>\n",
       "      <td>AGRI</td>\n",
       "    </tr>\n",
       "    <tr>\n",
       "      <th>3</th>\n",
       "      <td>MAX</td>\n",
       "      <td>AGRI</td>\n",
       "    </tr>\n",
       "    <tr>\n",
       "      <th>4</th>\n",
       "      <td>NER</td>\n",
       "      <td>AGRI</td>\n",
       "    </tr>\n",
       "  </tbody>\n",
       "</table>\n",
       "</div>"
      ],
      "text/plain": [
       "  หลักทรัพย์ Sector_id\n",
       "0         EE      AGRI\n",
       "1       GFPT      AGRI\n",
       "2        LEE      AGRI\n",
       "3        MAX      AGRI\n",
       "4        NER      AGRI"
      ]
     },
     "execution_count": 21,
     "metadata": {},
     "output_type": "execute_result"
    }
   ],
   "source": [
    "sector = ['AGRI','FOOD','FASHION','HOME','PERSON','BANK','FIN','INSUR','AUTO','IMM','PAPER','PETRO','PKG','STEEL','CONMAT','PROP','PF%26REIT','CONS','ENERG','MINE','COMM','HELTH','MEDIA','PROF','TOURISM','TRANS','ETRON','ICT']\n",
    "set_sector = pd.DataFrame()\n",
    "for i in sector: \n",
    "    url = 'https://classic.set.or.th/mkt/sectorquotation.do?language=th&country=TH&market=SET&sector='+i\n",
    "    r = requests.get(url)\n",
    "    soup = BeautifulSoup(r.text, features=\"html.parser\")\n",
    "    table = soup.find_all('table')\n",
    "    name_sec = pd.read_html(str(table))\n",
    "    name_sec = name_sec[2]\n",
    "    name_sec['Sector_id'] = i\n",
    "    set_sector = pd.concat([set_sector,name_sec])\n",
    "    # time.sleep(5)\n",
    "cols = [1,2,3,4,5,6,7,8,9,10,11]\n",
    "set_sector.drop(set_sector.columns[cols],axis=1,inplace=True)\n",
    "set_sector.head()"
   ]
  },
  {
   "cell_type": "code",
   "execution_count": 65,
   "metadata": {},
   "outputs": [],
   "source": [
    "set_sector_copy = set_sector.copy()"
   ]
  },
  {
   "cell_type": "code",
   "execution_count": 66,
   "metadata": {},
   "outputs": [
    {
     "data": {
      "text/html": [
       "<div>\n",
       "<style scoped>\n",
       "    .dataframe tbody tr th:only-of-type {\n",
       "        vertical-align: middle;\n",
       "    }\n",
       "\n",
       "    .dataframe tbody tr th {\n",
       "        vertical-align: top;\n",
       "    }\n",
       "\n",
       "    .dataframe thead th {\n",
       "        text-align: right;\n",
       "    }\n",
       "</style>\n",
       "<table border=\"1\" class=\"dataframe\">\n",
       "  <thead>\n",
       "    <tr style=\"text-align: right;\">\n",
       "      <th></th>\n",
       "      <th>หลักทรัพย์</th>\n",
       "      <th>Sector_id</th>\n",
       "    </tr>\n",
       "  </thead>\n",
       "  <tbody>\n",
       "    <tr>\n",
       "      <th>0</th>\n",
       "      <td>EE</td>\n",
       "      <td>AGRI</td>\n",
       "    </tr>\n",
       "    <tr>\n",
       "      <th>1</th>\n",
       "      <td>GFPT</td>\n",
       "      <td>AGRI</td>\n",
       "    </tr>\n",
       "    <tr>\n",
       "      <th>2</th>\n",
       "      <td>LEE</td>\n",
       "      <td>AGRI</td>\n",
       "    </tr>\n",
       "    <tr>\n",
       "      <th>3</th>\n",
       "      <td>MAX</td>\n",
       "      <td>AGRI</td>\n",
       "    </tr>\n",
       "    <tr>\n",
       "      <th>4</th>\n",
       "      <td>NER</td>\n",
       "      <td>AGRI</td>\n",
       "    </tr>\n",
       "    <tr>\n",
       "      <th>...</th>\n",
       "      <td>...</td>\n",
       "      <td>...</td>\n",
       "    </tr>\n",
       "    <tr>\n",
       "      <th>28</th>\n",
       "      <td>SYNEX</td>\n",
       "      <td>ICT</td>\n",
       "    </tr>\n",
       "    <tr>\n",
       "      <th>29</th>\n",
       "      <td>THCOM</td>\n",
       "      <td>ICT</td>\n",
       "    </tr>\n",
       "    <tr>\n",
       "      <th>30</th>\n",
       "      <td>TKC</td>\n",
       "      <td>ICT</td>\n",
       "    </tr>\n",
       "    <tr>\n",
       "      <th>31</th>\n",
       "      <td>TRUE</td>\n",
       "      <td>ICT</td>\n",
       "    </tr>\n",
       "    <tr>\n",
       "      <th>32</th>\n",
       "      <td>TWZ</td>\n",
       "      <td>ICT</td>\n",
       "    </tr>\n",
       "  </tbody>\n",
       "</table>\n",
       "<p>668 rows × 2 columns</p>\n",
       "</div>"
      ],
      "text/plain": [
       "   หลักทรัพย์ Sector_id\n",
       "0          EE      AGRI\n",
       "1        GFPT      AGRI\n",
       "2         LEE      AGRI\n",
       "3         MAX      AGRI\n",
       "4         NER      AGRI\n",
       "..        ...       ...\n",
       "28      SYNEX       ICT\n",
       "29      THCOM       ICT\n",
       "30        TKC       ICT\n",
       "31       TRUE       ICT\n",
       "32        TWZ       ICT\n",
       "\n",
       "[668 rows x 2 columns]"
      ]
     },
     "execution_count": 66,
     "metadata": {},
     "output_type": "execute_result"
    }
   ],
   "source": [
    "set_sector_copy['Sector_id'] = set_sector_copy['Sector_id'].replace(['PF%26REIT'],'PF&REIT')\n",
    "set_sector_copy"
   ]
  },
  {
   "cell_type": "code",
   "execution_count": 67,
   "metadata": {},
   "outputs": [
    {
     "data": {
      "text/html": [
       "<div>\n",
       "<style scoped>\n",
       "    .dataframe tbody tr th:only-of-type {\n",
       "        vertical-align: middle;\n",
       "    }\n",
       "\n",
       "    .dataframe tbody tr th {\n",
       "        vertical-align: top;\n",
       "    }\n",
       "\n",
       "    .dataframe thead th {\n",
       "        text-align: right;\n",
       "    }\n",
       "</style>\n",
       "<table border=\"1\" class=\"dataframe\">\n",
       "  <thead>\n",
       "    <tr style=\"text-align: right;\">\n",
       "      <th></th>\n",
       "      <th>Name</th>\n",
       "      <th>Sector_id</th>\n",
       "      <th>Industry_id</th>\n",
       "    </tr>\n",
       "  </thead>\n",
       "  <tbody>\n",
       "    <tr>\n",
       "      <th>0</th>\n",
       "      <td>EE</td>\n",
       "      <td>AGRI</td>\n",
       "      <td>AGRO</td>\n",
       "    </tr>\n",
       "    <tr>\n",
       "      <th>1</th>\n",
       "      <td>GFPT</td>\n",
       "      <td>AGRI</td>\n",
       "      <td>AGRO</td>\n",
       "    </tr>\n",
       "    <tr>\n",
       "      <th>2</th>\n",
       "      <td>LEE</td>\n",
       "      <td>AGRI</td>\n",
       "      <td>AGRO</td>\n",
       "    </tr>\n",
       "    <tr>\n",
       "      <th>3</th>\n",
       "      <td>MAX</td>\n",
       "      <td>AGRI</td>\n",
       "      <td>AGRO</td>\n",
       "    </tr>\n",
       "    <tr>\n",
       "      <th>4</th>\n",
       "      <td>NER</td>\n",
       "      <td>AGRI</td>\n",
       "      <td>AGRO</td>\n",
       "    </tr>\n",
       "  </tbody>\n",
       "</table>\n",
       "</div>"
      ],
      "text/plain": [
       "   Name Sector_id Industry_id\n",
       "0    EE      AGRI        AGRO\n",
       "1  GFPT      AGRI        AGRO\n",
       "2   LEE      AGRI        AGRO\n",
       "3   MAX      AGRI        AGRO\n",
       "4   NER      AGRI        AGRO"
      ]
     },
     "execution_count": 67,
     "metadata": {},
     "output_type": "execute_result"
    }
   ],
   "source": [
    "conditions = [\n",
    "    (set_sector_copy['Sector_id'] == \"AGRI\") | (set_sector_copy['Sector_id'] == \"FOOD\"),\n",
    "    (set_sector_copy['Sector_id'] == \"FASHION\") | (set_sector_copy['Sector_id'] == \"HOME\") | (set_sector_copy['Sector_id'] == \"PERSON\"),\n",
    "    (set_sector_copy['Sector_id'] == \"BANK\") | (set_sector_copy['Sector_id'] == \"FIN\") | (set_sector_copy['Sector_id'] == \"INSUR\"),\n",
    "    (set_sector_copy['Sector_id'] == \"AUTO\") | (set_sector_copy['Sector_id'] == \"IMM\") | (set_sector_copy['Sector_id'] == \"PAPER\") | (set_sector_copy['Sector_id'] == \"PETRO\") | (set_sector_copy['Sector_id'] == \"PKG\") | (set_sector_copy['Sector_id'] == \"STEEL\"),\n",
    "    (set_sector_copy['Sector_id'] == \"CONMAT\") | (set_sector_copy['Sector_id'] == \"CONS\") | (set_sector_copy['Sector_id'] == \"PF&REIT\") | (set_sector_copy['Sector_id'] == \"PROP\"),\n",
    "    (set_sector_copy['Sector_id'] == \"ENERG\") | (set_sector_copy['Sector_id'] == \"MINE\"),\n",
    "    (set_sector_copy['Sector_id'] == \"COMM\") | (set_sector_copy['Sector_id'] == \"HELTH\") | (set_sector_copy['Sector_id'] == \"MEDIA\") | (set_sector_copy['Sector_id'] == \"PROF\") | (set_sector_copy['Sector_id'] == \"TOURISM\") | (set_sector_copy['Sector_id'] == \"TRANS\"),\n",
    "    (set_sector_copy['Sector_id'] == \"ETRON\") | (set_sector_copy['Sector_id'] == \"ICT\"),\n",
    "    ]\n",
    "\n",
    "values = ['AGRO', 'CONSUMP', 'FINCIAL', 'INDUS', 'PROPCON', 'RESOURC', 'SERVICE ', 'TECH']\n",
    "set_sector_copy['Industry_id'] = np.select(conditions, values, default='')\n",
    "set_sector_copy = set_sector_copy.rename(columns={\"หลักทรัพย์\":\"Name\"})\n",
    "set_sector_copy.head()"
   ]
  },
  {
   "cell_type": "code",
   "execution_count": 69,
   "metadata": {},
   "outputs": [
    {
     "data": {
      "text/plain": [
       "Name           0\n",
       "Sector_id      0\n",
       "Industry_id    0\n",
       "dtype: int64"
      ]
     },
     "execution_count": 69,
     "metadata": {},
     "output_type": "execute_result"
    }
   ],
   "source": [
    "set_sector_copy.isna().sum()"
   ]
  },
  {
   "cell_type": "markdown",
   "metadata": {},
   "source": [
    "MAI Industry"
   ]
  },
  {
   "cell_type": "code",
   "execution_count": 70,
   "metadata": {},
   "outputs": [
    {
     "data": {
      "text/html": [
       "<div>\n",
       "<style scoped>\n",
       "    .dataframe tbody tr th:only-of-type {\n",
       "        vertical-align: middle;\n",
       "    }\n",
       "\n",
       "    .dataframe tbody tr th {\n",
       "        vertical-align: top;\n",
       "    }\n",
       "\n",
       "    .dataframe thead th {\n",
       "        text-align: right;\n",
       "    }\n",
       "</style>\n",
       "<table border=\"1\" class=\"dataframe\">\n",
       "  <thead>\n",
       "    <tr style=\"text-align: right;\">\n",
       "      <th></th>\n",
       "      <th>Name</th>\n",
       "      <th>Industry_id</th>\n",
       "    </tr>\n",
       "  </thead>\n",
       "  <tbody>\n",
       "    <tr>\n",
       "      <th>0</th>\n",
       "      <td>ABICO</td>\n",
       "      <td>AGRO</td>\n",
       "    </tr>\n",
       "    <tr>\n",
       "      <th>1</th>\n",
       "      <td>AU</td>\n",
       "      <td>AGRO</td>\n",
       "    </tr>\n",
       "    <tr>\n",
       "      <th>2</th>\n",
       "      <td>JCKH</td>\n",
       "      <td>AGRO</td>\n",
       "    </tr>\n",
       "    <tr>\n",
       "      <th>3</th>\n",
       "      <td>KASET</td>\n",
       "      <td>AGRO</td>\n",
       "    </tr>\n",
       "    <tr>\n",
       "      <th>4</th>\n",
       "      <td>MUD</td>\n",
       "      <td>AGRO</td>\n",
       "    </tr>\n",
       "  </tbody>\n",
       "</table>\n",
       "</div>"
      ],
      "text/plain": [
       "    Name Industry_id\n",
       "0  ABICO        AGRO\n",
       "1     AU        AGRO\n",
       "2   JCKH        AGRO\n",
       "3  KASET        AGRO\n",
       "4    MUD        AGRO"
      ]
     },
     "execution_count": 70,
     "metadata": {},
     "output_type": "execute_result"
    }
   ],
   "source": [
    "industry = ['AGRO','CONSUMP','FINCIAL','INDUS','PROPCON','RESOURC','SERVICE','TECH']\n",
    "mai_industry = pd.DataFrame()\n",
    "url = 'https://classic.set.or.th/mkt/sectorquotation.do?sector=mai&language=th&country=TH'\n",
    "r = requests.get(url)\n",
    "soup = BeautifulSoup(r.text, features=\"html.parser\")\n",
    "table = soup.find_all('table')\n",
    "n=2\n",
    "for i in industry:\n",
    "    table_mai_industry = pd.read_html(str(table))\n",
    "    table_mai_industry = table_mai_industry[n]\n",
    "    n+=1\n",
    "    table_mai_industry['Industry_id'] = i\n",
    "    mai_industry = pd.concat([mai_industry,table_mai_industry])\n",
    "    # time.sleep(5)\n",
    "cols = [1,2,3,4,5,6,7,8,9,10,11]\n",
    "mai_industry.drop(mai_industry.columns[cols],axis=1,inplace=True)\n",
    "mai_industry = mai_industry.rename(columns={\"หลักทรัพย์\":\"Name\"})\n",
    "mai_industry.head()"
   ]
  },
  {
   "cell_type": "code",
   "execution_count": 71,
   "metadata": {},
   "outputs": [],
   "source": [
    "mai_industry_copy = mai_industry.copy()"
   ]
  },
  {
   "cell_type": "code",
   "execution_count": 72,
   "metadata": {},
   "outputs": [
    {
     "data": {
      "text/html": [
       "<div>\n",
       "<style scoped>\n",
       "    .dataframe tbody tr th:only-of-type {\n",
       "        vertical-align: middle;\n",
       "    }\n",
       "\n",
       "    .dataframe tbody tr th {\n",
       "        vertical-align: top;\n",
       "    }\n",
       "\n",
       "    .dataframe thead th {\n",
       "        text-align: right;\n",
       "    }\n",
       "</style>\n",
       "<table border=\"1\" class=\"dataframe\">\n",
       "  <thead>\n",
       "    <tr style=\"text-align: right;\">\n",
       "      <th></th>\n",
       "      <th>Name</th>\n",
       "      <th>Sector_id</th>\n",
       "      <th>Industry_id</th>\n",
       "    </tr>\n",
       "  </thead>\n",
       "  <tbody>\n",
       "    <tr>\n",
       "      <th>0</th>\n",
       "      <td>EE</td>\n",
       "      <td>AGRI</td>\n",
       "      <td>AGRO</td>\n",
       "    </tr>\n",
       "    <tr>\n",
       "      <th>1</th>\n",
       "      <td>GFPT</td>\n",
       "      <td>AGRI</td>\n",
       "      <td>AGRO</td>\n",
       "    </tr>\n",
       "    <tr>\n",
       "      <th>2</th>\n",
       "      <td>LEE</td>\n",
       "      <td>AGRI</td>\n",
       "      <td>AGRO</td>\n",
       "    </tr>\n",
       "    <tr>\n",
       "      <th>3</th>\n",
       "      <td>MAX</td>\n",
       "      <td>AGRI</td>\n",
       "      <td>AGRO</td>\n",
       "    </tr>\n",
       "    <tr>\n",
       "      <th>4</th>\n",
       "      <td>NER</td>\n",
       "      <td>AGRI</td>\n",
       "      <td>AGRO</td>\n",
       "    </tr>\n",
       "  </tbody>\n",
       "</table>\n",
       "</div>"
      ],
      "text/plain": [
       "   Name Sector_id Industry_id\n",
       "0    EE      AGRI        AGRO\n",
       "1  GFPT      AGRI        AGRO\n",
       "2   LEE      AGRI        AGRO\n",
       "3   MAX      AGRI        AGRO\n",
       "4   NER      AGRI        AGRO"
      ]
     },
     "execution_count": 72,
     "metadata": {},
     "output_type": "execute_result"
    }
   ],
   "source": [
    "indus_sector = pd.concat([set_sector_copy,mai_industry_copy])\n",
    "indus_sector = indus_sector.reset_index()\n",
    "indus_sector = indus_sector.drop(columns=['index'])\n",
    "indus_sector.head()"
   ]
  },
  {
   "cell_type": "code",
   "execution_count": 73,
   "metadata": {},
   "outputs": [
    {
     "name": "stdout",
     "output_type": "stream",
     "text": [
      "Empty DataFrame\n",
      "Columns: [Name, Sector_id, Industry_id]\n",
      "Index: []\n"
     ]
    }
   ],
   "source": [
    "print(indus_sector[indus_sector.duplicated()])"
   ]
  },
  {
   "cell_type": "code",
   "execution_count": 74,
   "metadata": {},
   "outputs": [
    {
     "name": "stdout",
     "output_type": "stream",
     "text": [
      "(856, 3)\n"
     ]
    },
    {
     "data": {
      "text/plain": [
       "Name           object\n",
       "Sector_id      object\n",
       "Industry_id    object\n",
       "dtype: object"
      ]
     },
     "execution_count": 74,
     "metadata": {},
     "output_type": "execute_result"
    }
   ],
   "source": [
    "print(indus_sector.shape)\n",
    "indus_sector.dtypes"
   ]
  },
  {
   "cell_type": "code",
   "execution_count": 75,
   "metadata": {},
   "outputs": [
    {
     "data": {
      "text/plain": [
       "Name             0\n",
       "Sector_id      188\n",
       "Industry_id      0\n",
       "dtype: int64"
      ]
     },
     "execution_count": 75,
     "metadata": {},
     "output_type": "execute_result"
    }
   ],
   "source": [
    "indus_sector.isna().sum()"
   ]
  },
  {
   "cell_type": "code",
   "execution_count": 76,
   "metadata": {},
   "outputs": [
    {
     "data": {
      "text/html": [
       "<div>\n",
       "<style scoped>\n",
       "    .dataframe tbody tr th:only-of-type {\n",
       "        vertical-align: middle;\n",
       "    }\n",
       "\n",
       "    .dataframe tbody tr th {\n",
       "        vertical-align: top;\n",
       "    }\n",
       "\n",
       "    .dataframe thead th {\n",
       "        text-align: right;\n",
       "    }\n",
       "</style>\n",
       "<table border=\"1\" class=\"dataframe\">\n",
       "  <thead>\n",
       "    <tr style=\"text-align: right;\">\n",
       "      <th></th>\n",
       "      <th>Name</th>\n",
       "      <th>Sector_id</th>\n",
       "      <th>Industry_id</th>\n",
       "    </tr>\n",
       "  </thead>\n",
       "  <tbody>\n",
       "    <tr>\n",
       "      <th>668</th>\n",
       "      <td>ABICO</td>\n",
       "      <td>NaN</td>\n",
       "      <td>AGRO</td>\n",
       "    </tr>\n",
       "    <tr>\n",
       "      <th>669</th>\n",
       "      <td>AU</td>\n",
       "      <td>NaN</td>\n",
       "      <td>AGRO</td>\n",
       "    </tr>\n",
       "    <tr>\n",
       "      <th>670</th>\n",
       "      <td>JCKH</td>\n",
       "      <td>NaN</td>\n",
       "      <td>AGRO</td>\n",
       "    </tr>\n",
       "    <tr>\n",
       "      <th>671</th>\n",
       "      <td>KASET</td>\n",
       "      <td>NaN</td>\n",
       "      <td>AGRO</td>\n",
       "    </tr>\n",
       "    <tr>\n",
       "      <th>672</th>\n",
       "      <td>MUD</td>\n",
       "      <td>NaN</td>\n",
       "      <td>AGRO</td>\n",
       "    </tr>\n",
       "    <tr>\n",
       "      <th>...</th>\n",
       "      <td>...</td>\n",
       "      <td>...</td>\n",
       "      <td>...</td>\n",
       "    </tr>\n",
       "    <tr>\n",
       "      <th>851</th>\n",
       "      <td>SICT</td>\n",
       "      <td>NaN</td>\n",
       "      <td>TECH</td>\n",
       "    </tr>\n",
       "    <tr>\n",
       "      <th>852</th>\n",
       "      <td>SIMAT</td>\n",
       "      <td>NaN</td>\n",
       "      <td>TECH</td>\n",
       "    </tr>\n",
       "    <tr>\n",
       "      <th>853</th>\n",
       "      <td>SPVI</td>\n",
       "      <td>NaN</td>\n",
       "      <td>TECH</td>\n",
       "    </tr>\n",
       "    <tr>\n",
       "      <th>854</th>\n",
       "      <td>TPS</td>\n",
       "      <td>NaN</td>\n",
       "      <td>TECH</td>\n",
       "    </tr>\n",
       "    <tr>\n",
       "      <th>855</th>\n",
       "      <td>VCOM</td>\n",
       "      <td>NaN</td>\n",
       "      <td>TECH</td>\n",
       "    </tr>\n",
       "  </tbody>\n",
       "</table>\n",
       "<p>188 rows × 3 columns</p>\n",
       "</div>"
      ],
      "text/plain": [
       "      Name Sector_id Industry_id\n",
       "668  ABICO       NaN        AGRO\n",
       "669     AU       NaN        AGRO\n",
       "670   JCKH       NaN        AGRO\n",
       "671  KASET       NaN        AGRO\n",
       "672    MUD       NaN        AGRO\n",
       "..     ...       ...         ...\n",
       "851   SICT       NaN        TECH\n",
       "852  SIMAT       NaN        TECH\n",
       "853   SPVI       NaN        TECH\n",
       "854    TPS       NaN        TECH\n",
       "855   VCOM       NaN        TECH\n",
       "\n",
       "[188 rows x 3 columns]"
      ]
     },
     "execution_count": 76,
     "metadata": {},
     "output_type": "execute_result"
    }
   ],
   "source": [
    "indus_sector[indus_sector.Sector_id.isna()]"
   ]
  },
  {
   "cell_type": "code",
   "execution_count": 77,
   "metadata": {},
   "outputs": [
    {
     "data": {
      "text/html": [
       "<div>\n",
       "<style scoped>\n",
       "    .dataframe tbody tr th:only-of-type {\n",
       "        vertical-align: middle;\n",
       "    }\n",
       "\n",
       "    .dataframe tbody tr th {\n",
       "        vertical-align: top;\n",
       "    }\n",
       "\n",
       "    .dataframe thead th {\n",
       "        text-align: right;\n",
       "    }\n",
       "</style>\n",
       "<table border=\"1\" class=\"dataframe\">\n",
       "  <thead>\n",
       "    <tr style=\"text-align: right;\">\n",
       "      <th></th>\n",
       "      <th>Name</th>\n",
       "      <th>Sector_id</th>\n",
       "      <th>Industry_id</th>\n",
       "    </tr>\n",
       "  </thead>\n",
       "  <tbody>\n",
       "    <tr>\n",
       "      <th>668</th>\n",
       "      <td>ABICO</td>\n",
       "      <td>No Sector</td>\n",
       "      <td>AGRO</td>\n",
       "    </tr>\n",
       "    <tr>\n",
       "      <th>669</th>\n",
       "      <td>AU</td>\n",
       "      <td>No Sector</td>\n",
       "      <td>AGRO</td>\n",
       "    </tr>\n",
       "    <tr>\n",
       "      <th>670</th>\n",
       "      <td>JCKH</td>\n",
       "      <td>No Sector</td>\n",
       "      <td>AGRO</td>\n",
       "    </tr>\n",
       "    <tr>\n",
       "      <th>671</th>\n",
       "      <td>KASET</td>\n",
       "      <td>No Sector</td>\n",
       "      <td>AGRO</td>\n",
       "    </tr>\n",
       "    <tr>\n",
       "      <th>672</th>\n",
       "      <td>MUD</td>\n",
       "      <td>No Sector</td>\n",
       "      <td>AGRO</td>\n",
       "    </tr>\n",
       "    <tr>\n",
       "      <th>...</th>\n",
       "      <td>...</td>\n",
       "      <td>...</td>\n",
       "      <td>...</td>\n",
       "    </tr>\n",
       "    <tr>\n",
       "      <th>851</th>\n",
       "      <td>SICT</td>\n",
       "      <td>No Sector</td>\n",
       "      <td>TECH</td>\n",
       "    </tr>\n",
       "    <tr>\n",
       "      <th>852</th>\n",
       "      <td>SIMAT</td>\n",
       "      <td>No Sector</td>\n",
       "      <td>TECH</td>\n",
       "    </tr>\n",
       "    <tr>\n",
       "      <th>853</th>\n",
       "      <td>SPVI</td>\n",
       "      <td>No Sector</td>\n",
       "      <td>TECH</td>\n",
       "    </tr>\n",
       "    <tr>\n",
       "      <th>854</th>\n",
       "      <td>TPS</td>\n",
       "      <td>No Sector</td>\n",
       "      <td>TECH</td>\n",
       "    </tr>\n",
       "    <tr>\n",
       "      <th>855</th>\n",
       "      <td>VCOM</td>\n",
       "      <td>No Sector</td>\n",
       "      <td>TECH</td>\n",
       "    </tr>\n",
       "  </tbody>\n",
       "</table>\n",
       "<p>188 rows × 3 columns</p>\n",
       "</div>"
      ],
      "text/plain": [
       "      Name  Sector_id Industry_id\n",
       "668  ABICO  No Sector        AGRO\n",
       "669     AU  No Sector        AGRO\n",
       "670   JCKH  No Sector        AGRO\n",
       "671  KASET  No Sector        AGRO\n",
       "672    MUD  No Sector        AGRO\n",
       "..     ...        ...         ...\n",
       "851   SICT  No Sector        TECH\n",
       "852  SIMAT  No Sector        TECH\n",
       "853   SPVI  No Sector        TECH\n",
       "854    TPS  No Sector        TECH\n",
       "855   VCOM  No Sector        TECH\n",
       "\n",
       "[188 rows x 3 columns]"
      ]
     },
     "execution_count": 77,
     "metadata": {},
     "output_type": "execute_result"
    }
   ],
   "source": [
    "indus_sector[\"Sector_id\"].fillna(\"No Sector\", inplace = True)\n",
    "indus_sector.loc[668:855]"
   ]
  },
  {
   "cell_type": "code",
   "execution_count": 78,
   "metadata": {},
   "outputs": [
    {
     "data": {
      "text/plain": [
       "Name           0\n",
       "Sector_id      0\n",
       "Industry_id    0\n",
       "dtype: int64"
      ]
     },
     "execution_count": 78,
     "metadata": {},
     "output_type": "execute_result"
    }
   ],
   "source": [
    "indus_sector.isna().sum()"
   ]
  },
  {
   "cell_type": "markdown",
   "metadata": {},
   "source": [
    "Merge"
   ]
  },
  {
   "cell_type": "code",
   "execution_count": 80,
   "metadata": {},
   "outputs": [
    {
     "data": {
      "text/html": [
       "<div>\n",
       "<style scoped>\n",
       "    .dataframe tbody tr th:only-of-type {\n",
       "        vertical-align: middle;\n",
       "    }\n",
       "\n",
       "    .dataframe tbody tr th {\n",
       "        vertical-align: top;\n",
       "    }\n",
       "\n",
       "    .dataframe thead th {\n",
       "        text-align: right;\n",
       "    }\n",
       "</style>\n",
       "<table border=\"1\" class=\"dataframe\">\n",
       "  <thead>\n",
       "    <tr style=\"text-align: right;\">\n",
       "      <th></th>\n",
       "      <th>Name</th>\n",
       "      <th>Company full name</th>\n",
       "      <th>Market</th>\n",
       "      <th>Sector_id</th>\n",
       "      <th>Industry_id</th>\n",
       "    </tr>\n",
       "  </thead>\n",
       "  <tbody>\n",
       "    <tr>\n",
       "      <th>0</th>\n",
       "      <td>2S</td>\n",
       "      <td>บริษัท 2 เอส เมทัล จำกัด (มหาชน)</td>\n",
       "      <td>SET</td>\n",
       "      <td>STEEL</td>\n",
       "      <td>INDUS</td>\n",
       "    </tr>\n",
       "    <tr>\n",
       "      <th>1</th>\n",
       "      <td>3K-BAT</td>\n",
       "      <td>บริษัท ไทย เอ็นเนอร์จี สโตเรจ เทคโนโลยี จำกัด ...</td>\n",
       "      <td>SET</td>\n",
       "      <td>AUTO</td>\n",
       "      <td>INDUS</td>\n",
       "    </tr>\n",
       "    <tr>\n",
       "      <th>2</th>\n",
       "      <td>7UP</td>\n",
       "      <td>บริษัท เซเว่น ยูทิลิตี้ส์ แอนด์ พาวเวอร์ จำกัด...</td>\n",
       "      <td>SET</td>\n",
       "      <td>ENERG</td>\n",
       "      <td>RESOURC</td>\n",
       "    </tr>\n",
       "    <tr>\n",
       "      <th>3</th>\n",
       "      <td>A</td>\n",
       "      <td>บริษัท อารียา พรอพเพอร์ตี้ จำกัด (มหาชน)</td>\n",
       "      <td>SET</td>\n",
       "      <td>PROP</td>\n",
       "      <td>PROPCON</td>\n",
       "    </tr>\n",
       "    <tr>\n",
       "      <th>4</th>\n",
       "      <td>A5</td>\n",
       "      <td>บริษัท แอสเซท ไฟว์ กรุ๊ป จำกัด (มหาชน)</td>\n",
       "      <td>mai</td>\n",
       "      <td>No Sector</td>\n",
       "      <td>PROPCON</td>\n",
       "    </tr>\n",
       "  </tbody>\n",
       "</table>\n",
       "</div>"
      ],
      "text/plain": [
       "     Name                                  Company full name Market  \\\n",
       "0      2S                   บริษัท 2 เอส เมทัล จำกัด (มหาชน)    SET   \n",
       "1  3K-BAT  บริษัท ไทย เอ็นเนอร์จี สโตเรจ เทคโนโลยี จำกัด ...    SET   \n",
       "2     7UP  บริษัท เซเว่น ยูทิลิตี้ส์ แอนด์ พาวเวอร์ จำกัด...    SET   \n",
       "3       A           บริษัท อารียา พรอพเพอร์ตี้ จำกัด (มหาชน)    SET   \n",
       "4      A5             บริษัท แอสเซท ไฟว์ กรุ๊ป จำกัด (มหาชน)    mai   \n",
       "\n",
       "   Sector_id Industry_id  \n",
       "0      STEEL       INDUS  \n",
       "1       AUTO       INDUS  \n",
       "2      ENERG     RESOURC  \n",
       "3       PROP     PROPCON  \n",
       "4  No Sector     PROPCON  "
      ]
     },
     "execution_count": 80,
     "metadata": {},
     "output_type": "execute_result"
    }
   ],
   "source": [
    "all_data = pd.merge(result_name, indus_sector, how='left', on=['Name'])\n",
    "all_data.head()"
   ]
  },
  {
   "cell_type": "code",
   "execution_count": 81,
   "metadata": {},
   "outputs": [
    {
     "data": {
      "text/plain": [
       "Name                  0\n",
       "Company full name     0\n",
       "Market                0\n",
       "Sector_id            16\n",
       "Industry_id          16\n",
       "dtype: int64"
      ]
     },
     "execution_count": 81,
     "metadata": {},
     "output_type": "execute_result"
    }
   ],
   "source": [
    "all_data.isna().sum()"
   ]
  },
  {
   "cell_type": "code",
   "execution_count": 82,
   "metadata": {},
   "outputs": [
    {
     "data": {
      "text/html": [
       "<div>\n",
       "<style scoped>\n",
       "    .dataframe tbody tr th:only-of-type {\n",
       "        vertical-align: middle;\n",
       "    }\n",
       "\n",
       "    .dataframe tbody tr th {\n",
       "        vertical-align: top;\n",
       "    }\n",
       "\n",
       "    .dataframe thead th {\n",
       "        text-align: right;\n",
       "    }\n",
       "</style>\n",
       "<table border=\"1\" class=\"dataframe\">\n",
       "  <thead>\n",
       "    <tr style=\"text-align: right;\">\n",
       "      <th></th>\n",
       "      <th>Name</th>\n",
       "      <th>Company full name</th>\n",
       "      <th>Market</th>\n",
       "      <th>Sector_id</th>\n",
       "      <th>Industry_id</th>\n",
       "    </tr>\n",
       "  </thead>\n",
       "  <tbody>\n",
       "    <tr>\n",
       "      <th>505</th>\n",
       "      <td>POMPUI</td>\n",
       "      <td>บริษัท ผลิตภัณฑ์อาหารกว้างไพศาล จำกัด (มหาชน)</td>\n",
       "      <td>SET</td>\n",
       "      <td>NaN</td>\n",
       "      <td>NaN</td>\n",
       "    </tr>\n",
       "    <tr>\n",
       "      <th>573</th>\n",
       "      <td>SAFARI</td>\n",
       "      <td>บริษัท ซาฟารีเวิลด์ จำกัด (มหาชน)</td>\n",
       "      <td>SET</td>\n",
       "      <td>NaN</td>\n",
       "      <td>NaN</td>\n",
       "    </tr>\n",
       "    <tr>\n",
       "      <th>849</th>\n",
       "      <td>WORLD</td>\n",
       "      <td>บริษัท เวิลด์ คอร์ปอเรชั่น จำกัด (มหาชน)</td>\n",
       "      <td>SET</td>\n",
       "      <td>NaN</td>\n",
       "      <td>NaN</td>\n",
       "    </tr>\n",
       "    <tr>\n",
       "      <th>859</th>\n",
       "      <td>1DIV</td>\n",
       "      <td>กองทุนเปิดไทยเด็กซ์ SET High Dividend ETF</td>\n",
       "      <td>SET</td>\n",
       "      <td>NaN</td>\n",
       "      <td>NaN</td>\n",
       "    </tr>\n",
       "    <tr>\n",
       "      <th>860</th>\n",
       "      <td>ABFTH</td>\n",
       "      <td>กองทุนเปิดดัชนีพันธบัตรไทยเอบีเอฟ</td>\n",
       "      <td>SET</td>\n",
       "      <td>NaN</td>\n",
       "      <td>NaN</td>\n",
       "    </tr>\n",
       "    <tr>\n",
       "      <th>861</th>\n",
       "      <td>BMSCG</td>\n",
       "      <td>กองทุนเปิด BCAP MID SMALL CG ETF</td>\n",
       "      <td>SET</td>\n",
       "      <td>NaN</td>\n",
       "      <td>NaN</td>\n",
       "    </tr>\n",
       "    <tr>\n",
       "      <th>862</th>\n",
       "      <td>BMSCITH</td>\n",
       "      <td>กองทุนเปิด BCAP MSCI THAILAND ETF</td>\n",
       "      <td>SET</td>\n",
       "      <td>NaN</td>\n",
       "      <td>NaN</td>\n",
       "    </tr>\n",
       "    <tr>\n",
       "      <th>863</th>\n",
       "      <td>BSET100</td>\n",
       "      <td>กองทุนเปิด BCAP SET 100 ETF</td>\n",
       "      <td>SET</td>\n",
       "      <td>NaN</td>\n",
       "      <td>NaN</td>\n",
       "    </tr>\n",
       "    <tr>\n",
       "      <th>864</th>\n",
       "      <td>CHINA</td>\n",
       "      <td>กองทุนเปิดดับเบิลยูไอเอสอี เคแทม ซีเอสไอ 300 ไ...</td>\n",
       "      <td>SET</td>\n",
       "      <td>NaN</td>\n",
       "      <td>NaN</td>\n",
       "    </tr>\n",
       "    <tr>\n",
       "      <th>865</th>\n",
       "      <td>EBANK</td>\n",
       "      <td>กองทุนเปิด KTAM SET BANKING ETF TRACKER</td>\n",
       "      <td>SET</td>\n",
       "      <td>NaN</td>\n",
       "      <td>NaN</td>\n",
       "    </tr>\n",
       "    <tr>\n",
       "      <th>866</th>\n",
       "      <td>ENGY</td>\n",
       "      <td>กองทุนเปิด MTRACK ENERGY ETF</td>\n",
       "      <td>SET</td>\n",
       "      <td>NaN</td>\n",
       "      <td>NaN</td>\n",
       "    </tr>\n",
       "    <tr>\n",
       "      <th>867</th>\n",
       "      <td>ENY</td>\n",
       "      <td>กองทุนเปิด KTAM SET ENERGY ETF TRACKER</td>\n",
       "      <td>SET</td>\n",
       "      <td>NaN</td>\n",
       "      <td>NaN</td>\n",
       "    </tr>\n",
       "    <tr>\n",
       "      <th>868</th>\n",
       "      <td>GLD</td>\n",
       "      <td>กองทุนเปิดเคแทม โกลด์ อีทีเอฟ แทร็กเกอร์</td>\n",
       "      <td>SET</td>\n",
       "      <td>NaN</td>\n",
       "      <td>NaN</td>\n",
       "    </tr>\n",
       "    <tr>\n",
       "      <th>869</th>\n",
       "      <td>TDEX</td>\n",
       "      <td>กองทุนเปิด ไทยเด็กซ์ เซ็ท 50 อีทีเอฟ</td>\n",
       "      <td>SET</td>\n",
       "      <td>NaN</td>\n",
       "      <td>NaN</td>\n",
       "    </tr>\n",
       "    <tr>\n",
       "      <th>870</th>\n",
       "      <td>UBOT</td>\n",
       "      <td>กองทุนเปิด ยูไนเต็ด โรโบติกส์ &amp; อาร์ติฟิเชียล ...</td>\n",
       "      <td>SET</td>\n",
       "      <td>NaN</td>\n",
       "      <td>NaN</td>\n",
       "    </tr>\n",
       "    <tr>\n",
       "      <th>871</th>\n",
       "      <td>UHERO</td>\n",
       "      <td>กองทุนเปิด ยูไนเต็ด ฮีโร่ อีทีเอฟ</td>\n",
       "      <td>SET</td>\n",
       "      <td>NaN</td>\n",
       "      <td>NaN</td>\n",
       "    </tr>\n",
       "  </tbody>\n",
       "</table>\n",
       "</div>"
      ],
      "text/plain": [
       "        Name                                  Company full name Market  \\\n",
       "505   POMPUI      บริษัท ผลิตภัณฑ์อาหารกว้างไพศาล จำกัด (มหาชน)    SET   \n",
       "573   SAFARI                  บริษัท ซาฟารีเวิลด์ จำกัด (มหาชน)    SET   \n",
       "849    WORLD           บริษัท เวิลด์ คอร์ปอเรชั่น จำกัด (มหาชน)    SET   \n",
       "859     1DIV          กองทุนเปิดไทยเด็กซ์ SET High Dividend ETF    SET   \n",
       "860    ABFTH                  กองทุนเปิดดัชนีพันธบัตรไทยเอบีเอฟ    SET   \n",
       "861    BMSCG                   กองทุนเปิด BCAP MID SMALL CG ETF    SET   \n",
       "862  BMSCITH                  กองทุนเปิด BCAP MSCI THAILAND ETF    SET   \n",
       "863  BSET100                        กองทุนเปิด BCAP SET 100 ETF    SET   \n",
       "864    CHINA  กองทุนเปิดดับเบิลยูไอเอสอี เคแทม ซีเอสไอ 300 ไ...    SET   \n",
       "865    EBANK            กองทุนเปิด KTAM SET BANKING ETF TRACKER    SET   \n",
       "866     ENGY                       กองทุนเปิด MTRACK ENERGY ETF    SET   \n",
       "867      ENY             กองทุนเปิด KTAM SET ENERGY ETF TRACKER    SET   \n",
       "868      GLD           กองทุนเปิดเคแทม โกลด์ อีทีเอฟ แทร็กเกอร์    SET   \n",
       "869     TDEX               กองทุนเปิด ไทยเด็กซ์ เซ็ท 50 อีทีเอฟ    SET   \n",
       "870     UBOT  กองทุนเปิด ยูไนเต็ด โรโบติกส์ & อาร์ติฟิเชียล ...    SET   \n",
       "871    UHERO                  กองทุนเปิด ยูไนเต็ด ฮีโร่ อีทีเอฟ    SET   \n",
       "\n",
       "    Sector_id Industry_id  \n",
       "505       NaN         NaN  \n",
       "573       NaN         NaN  \n",
       "849       NaN         NaN  \n",
       "859       NaN         NaN  \n",
       "860       NaN         NaN  \n",
       "861       NaN         NaN  \n",
       "862       NaN         NaN  \n",
       "863       NaN         NaN  \n",
       "864       NaN         NaN  \n",
       "865       NaN         NaN  \n",
       "866       NaN         NaN  \n",
       "867       NaN         NaN  \n",
       "868       NaN         NaN  \n",
       "869       NaN         NaN  \n",
       "870       NaN         NaN  \n",
       "871       NaN         NaN  "
      ]
     },
     "execution_count": 82,
     "metadata": {},
     "output_type": "execute_result"
    }
   ],
   "source": [
    "all_data[all_data.Sector_id.isna()]"
   ]
  },
  {
   "cell_type": "code",
   "execution_count": 83,
   "metadata": {},
   "outputs": [
    {
     "data": {
      "text/html": [
       "<div>\n",
       "<style scoped>\n",
       "    .dataframe tbody tr th:only-of-type {\n",
       "        vertical-align: middle;\n",
       "    }\n",
       "\n",
       "    .dataframe tbody tr th {\n",
       "        vertical-align: top;\n",
       "    }\n",
       "\n",
       "    .dataframe thead th {\n",
       "        text-align: right;\n",
       "    }\n",
       "</style>\n",
       "<table border=\"1\" class=\"dataframe\">\n",
       "  <thead>\n",
       "    <tr style=\"text-align: right;\">\n",
       "      <th></th>\n",
       "      <th>Name</th>\n",
       "      <th>Company full name</th>\n",
       "      <th>Market</th>\n",
       "      <th>Sector_id</th>\n",
       "      <th>Industry_id</th>\n",
       "    </tr>\n",
       "  </thead>\n",
       "  <tbody>\n",
       "    <tr>\n",
       "      <th>505</th>\n",
       "      <td>POMPUI</td>\n",
       "      <td>บริษัท ผลิตภัณฑ์อาหารกว้างไพศาล จำกัด (มหาชน)</td>\n",
       "      <td>SET</td>\n",
       "      <td>No Sector</td>\n",
       "      <td>No Industry</td>\n",
       "    </tr>\n",
       "    <tr>\n",
       "      <th>506</th>\n",
       "      <td>POPF</td>\n",
       "      <td>กองทุนรวมสิทธิการเช่าอสังหาริมทรัพย์ไพร์มออฟฟิศ</td>\n",
       "      <td>SET</td>\n",
       "      <td>PF&amp;REIT</td>\n",
       "      <td>PROPCON</td>\n",
       "    </tr>\n",
       "    <tr>\n",
       "      <th>507</th>\n",
       "      <td>PORT</td>\n",
       "      <td>บริษัท สหไทย เทอร์มินอล จำกัด (มหาชน)</td>\n",
       "      <td>SET</td>\n",
       "      <td>TRANS</td>\n",
       "      <td>SERVICE</td>\n",
       "    </tr>\n",
       "    <tr>\n",
       "      <th>508</th>\n",
       "      <td>POST</td>\n",
       "      <td>บริษัท บางกอก โพสต์ จำกัด (มหาชน)</td>\n",
       "      <td>SET</td>\n",
       "      <td>MEDIA</td>\n",
       "      <td>SERVICE</td>\n",
       "    </tr>\n",
       "    <tr>\n",
       "      <th>509</th>\n",
       "      <td>PPF</td>\n",
       "      <td>กองทุนรวมอสังหาริมทรัพย์ปิ่นทอง อินดัสเตรียล ป...</td>\n",
       "      <td>SET</td>\n",
       "      <td>PF&amp;REIT</td>\n",
       "      <td>PROPCON</td>\n",
       "    </tr>\n",
       "    <tr>\n",
       "      <th>...</th>\n",
       "      <td>...</td>\n",
       "      <td>...</td>\n",
       "      <td>...</td>\n",
       "      <td>...</td>\n",
       "      <td>...</td>\n",
       "    </tr>\n",
       "    <tr>\n",
       "      <th>867</th>\n",
       "      <td>ENY</td>\n",
       "      <td>กองทุนเปิด KTAM SET ENERGY ETF TRACKER</td>\n",
       "      <td>SET</td>\n",
       "      <td>No Sector</td>\n",
       "      <td>No Industry</td>\n",
       "    </tr>\n",
       "    <tr>\n",
       "      <th>868</th>\n",
       "      <td>GLD</td>\n",
       "      <td>กองทุนเปิดเคแทม โกลด์ อีทีเอฟ แทร็กเกอร์</td>\n",
       "      <td>SET</td>\n",
       "      <td>No Sector</td>\n",
       "      <td>No Industry</td>\n",
       "    </tr>\n",
       "    <tr>\n",
       "      <th>869</th>\n",
       "      <td>TDEX</td>\n",
       "      <td>กองทุนเปิด ไทยเด็กซ์ เซ็ท 50 อีทีเอฟ</td>\n",
       "      <td>SET</td>\n",
       "      <td>No Sector</td>\n",
       "      <td>No Industry</td>\n",
       "    </tr>\n",
       "    <tr>\n",
       "      <th>870</th>\n",
       "      <td>UBOT</td>\n",
       "      <td>กองทุนเปิด ยูไนเต็ด โรโบติกส์ &amp; อาร์ติฟิเชียล ...</td>\n",
       "      <td>SET</td>\n",
       "      <td>No Sector</td>\n",
       "      <td>No Industry</td>\n",
       "    </tr>\n",
       "    <tr>\n",
       "      <th>871</th>\n",
       "      <td>UHERO</td>\n",
       "      <td>กองทุนเปิด ยูไนเต็ด ฮีโร่ อีทีเอฟ</td>\n",
       "      <td>SET</td>\n",
       "      <td>No Sector</td>\n",
       "      <td>No Industry</td>\n",
       "    </tr>\n",
       "  </tbody>\n",
       "</table>\n",
       "<p>367 rows × 5 columns</p>\n",
       "</div>"
      ],
      "text/plain": [
       "       Name                                  Company full name Market  \\\n",
       "505  POMPUI      บริษัท ผลิตภัณฑ์อาหารกว้างไพศาล จำกัด (มหาชน)    SET   \n",
       "506    POPF    กองทุนรวมสิทธิการเช่าอสังหาริมทรัพย์ไพร์มออฟฟิศ    SET   \n",
       "507    PORT              บริษัท สหไทย เทอร์มินอล จำกัด (มหาชน)    SET   \n",
       "508    POST                  บริษัท บางกอก โพสต์ จำกัด (มหาชน)    SET   \n",
       "509     PPF  กองทุนรวมอสังหาริมทรัพย์ปิ่นทอง อินดัสเตรียล ป...    SET   \n",
       "..      ...                                                ...    ...   \n",
       "867     ENY             กองทุนเปิด KTAM SET ENERGY ETF TRACKER    SET   \n",
       "868     GLD           กองทุนเปิดเคแทม โกลด์ อีทีเอฟ แทร็กเกอร์    SET   \n",
       "869    TDEX               กองทุนเปิด ไทยเด็กซ์ เซ็ท 50 อีทีเอฟ    SET   \n",
       "870    UBOT  กองทุนเปิด ยูไนเต็ด โรโบติกส์ & อาร์ติฟิเชียล ...    SET   \n",
       "871   UHERO                  กองทุนเปิด ยูไนเต็ด ฮีโร่ อีทีเอฟ    SET   \n",
       "\n",
       "     Sector_id  Industry_id  \n",
       "505  No Sector  No Industry  \n",
       "506    PF&REIT      PROPCON  \n",
       "507      TRANS     SERVICE   \n",
       "508      MEDIA     SERVICE   \n",
       "509    PF&REIT      PROPCON  \n",
       "..         ...          ...  \n",
       "867  No Sector  No Industry  \n",
       "868  No Sector  No Industry  \n",
       "869  No Sector  No Industry  \n",
       "870  No Sector  No Industry  \n",
       "871  No Sector  No Industry  \n",
       "\n",
       "[367 rows x 5 columns]"
      ]
     },
     "execution_count": 83,
     "metadata": {},
     "output_type": "execute_result"
    }
   ],
   "source": [
    "all_data[\"Sector_id\"].fillna(\"No Sector\", inplace = True)\n",
    "all_data[\"Industry_id\"].fillna(\"No Industry\", inplace = True)\n",
    "all_data.loc[505:871]"
   ]
  },
  {
   "cell_type": "code",
   "execution_count": 84,
   "metadata": {},
   "outputs": [
    {
     "data": {
      "text/plain": [
       "Name                 0\n",
       "Company full name    0\n",
       "Market               0\n",
       "Sector_id            0\n",
       "Industry_id          0\n",
       "dtype: int64"
      ]
     },
     "execution_count": 84,
     "metadata": {},
     "output_type": "execute_result"
    }
   ],
   "source": [
    "all_data.isna().sum()"
   ]
  },
  {
   "cell_type": "code",
   "execution_count": 4,
   "metadata": {},
   "outputs": [],
   "source": [
    "all_data.to_excel(\"data_name.xlsx\")"
   ]
  }
 ],
 "metadata": {
  "kernelspec": {
   "display_name": "Python 3.10.5 64-bit",
   "language": "python",
   "name": "python3"
  },
  "language_info": {
   "codemirror_mode": {
    "name": "ipython",
    "version": 3
   },
   "file_extension": ".py",
   "mimetype": "text/x-python",
   "name": "python",
   "nbconvert_exporter": "python",
   "pygments_lexer": "ipython3",
   "version": "3.10.5"
  },
  "orig_nbformat": 4,
  "vscode": {
   "interpreter": {
    "hash": "369f2c481f4da34e4445cda3fffd2e751bd1c4d706f27375911949ba6bb62e1c"
   }
  }
 },
 "nbformat": 4,
 "nbformat_minor": 2
}
